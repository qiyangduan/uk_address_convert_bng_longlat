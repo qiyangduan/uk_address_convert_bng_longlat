{
 "cells": [
  {
   "cell_type": "code",
   "execution_count": 19,
   "metadata": {},
   "outputs": [],
   "source": [
    "import datetime\n",
    "import pandas as pd\n",
    "import numpy as np \n",
    "\n",
    "import glob\n",
    "# # https://pypi.org/project/bng-latlon/\n",
    "from bng_to_latlon import OSGB36toWGS84"
   ]
  },
  {
   "cell_type": "code",
   "execution_count": null,
   "metadata": {},
   "outputs": [],
   "source": [
    "# new london dataset `: https://data.london.gov.uk/dataset/allotment-locations\n",
    "# locations\n",
    "# https://github.com/zzsza/Awesome-Mobility-Machine-Learning-Contents#route-planning\n",
    "# https://github.com/awesomedata/awesome-public-datasets#transportation"
   ]
  },
  {
   "cell_type": "code",
   "execution_count": null,
   "metadata": {},
   "outputs": [],
   "source": [
    "# http://www.nationalarchives.gov.uk/doc/open-government-licence/version/2/\n",
    "# https://data.london.gov.uk/dataset/gla-group-land-assets?q=gla%20asset\n"
   ]
  },
  {
   "cell_type": "code",
   "execution_count": 20,
   "metadata": {},
   "outputs": [
    {
     "data": {
      "text/plain": [
       "['/Users/qiyang/Documents/qduan/temp/london_addr/orig/GLA_assets.csv',\n",
       " '/Users/qiyang/Documents/qduan/temp/london_addr/orig/TFL_assets.csv',\n",
       " '/Users/qiyang/Documents/qduan/temp/london_addr/orig/LFB_assets.csv',\n",
       " '/Users/qiyang/Documents/qduan/temp/london_addr/orig/LLDC_assets.csv',\n",
       " '/Users/qiyang/Documents/qduan/temp/london_addr/orig/Met_assets.csv']"
      ]
     },
     "execution_count": 20,
     "metadata": {},
     "output_type": "execute_result"
    }
   ],
   "source": [
    "# https://stackoverflow.com/questions/20906474/import-multiple-csv-files-into-pandas-and-concatenate-into-one-dataframe\n",
    "path = '/Users/qiyang/Documents/qduan/temp/london_addr' # use your path\n",
    "all_files = glob.glob(path + \"/orig/*.csv\")\n",
    "\n",
    "all_files "
   ]
  },
  {
   "cell_type": "code",
   "execution_count": 21,
   "metadata": {},
   "outputs": [
    {
     "data": {
      "text/plain": [
       "'GLA'"
      ]
     },
     "execution_count": 21,
     "metadata": {},
     "output_type": "execute_result"
    }
   ],
   "source": [
    "filename =  '/Users/qiyang/Documents/qduan/temp/london_addr/orig/GLA_assets.csv'\n",
    "filename.split(\"/\")[-1].split(\"_\")[0]"
   ]
  },
  {
   "cell_type": "code",
   "execution_count": 22,
   "metadata": {},
   "outputs": [
    {
     "name": "stdout",
     "output_type": "stream",
     "text": [
      "/Users/qiyang/Documents/qduan/temp/london_addr/orig/GLA_assets.csv\n",
      "162\n",
      "162\n",
      "/Users/qiyang/Documents/qduan/temp/london_addr/orig/TFL_assets.csv\n",
      "656\n",
      "654\n",
      "/Users/qiyang/Documents/qduan/temp/london_addr/orig/LFB_assets.csv\n",
      "116\n",
      "115\n",
      "/Users/qiyang/Documents/qduan/temp/london_addr/orig/LLDC_assets.csv\n",
      "29\n",
      "29\n",
      "/Users/qiyang/Documents/qduan/temp/london_addr/orig/Met_assets.csv\n",
      "302\n",
      "302\n",
      "1262\n"
     ]
    },
    {
     "name": "stderr",
     "output_type": "stream",
     "text": [
      "/Users/qiyang/anaconda3/lib/python3.7/site-packages/ipykernel_launcher.py:25: FutureWarning: Sorting because non-concatenation axis is not aligned. A future version\n",
      "of pandas will change to not sort by default.\n",
      "\n",
      "To accept the future behavior, pass 'sort=False'.\n",
      "\n",
      "To retain the current behavior and silence the warning, pass 'sort=True'.\n",
      "\n"
     ]
    },
    {
     "data": {
      "text/html": [
       "<div>\n",
       "<style scoped>\n",
       "    .dataframe tbody tr th:only-of-type {\n",
       "        vertical-align: middle;\n",
       "    }\n",
       "\n",
       "    .dataframe tbody tr th {\n",
       "        vertical-align: top;\n",
       "    }\n",
       "\n",
       "    .dataframe thead th {\n",
       "        text-align: right;\n",
       "    }\n",
       "</style>\n",
       "<table border=\"1\" class=\"dataframe\">\n",
       "  <thead>\n",
       "    <tr style=\"text-align: right;\">\n",
       "      <th></th>\n",
       "      <th>Address</th>\n",
       "      <th>Easting</th>\n",
       "      <th>Northing</th>\n",
       "      <th>long</th>\n",
       "      <th>lat</th>\n",
       "      <th>new_id</th>\n",
       "    </tr>\n",
       "  </thead>\n",
       "  <tbody>\n",
       "    <tr>\n",
       "      <td>0</td>\n",
       "      <td>Crystal Palace Park, Ledrington Road, Crystal ...</td>\n",
       "      <td>534361.0</td>\n",
       "      <td>170764.0</td>\n",
       "      <td>-0.069065</td>\n",
       "      <td>51.419973</td>\n",
       "      <td>GLA_02/001</td>\n",
       "    </tr>\n",
       "    <tr>\n",
       "      <td>1</td>\n",
       "      <td>Crystal Palace Park, Ledrington Road, Crystal ...</td>\n",
       "      <td>534225.0</td>\n",
       "      <td>170850.0</td>\n",
       "      <td>-0.070987</td>\n",
       "      <td>51.420778</td>\n",
       "      <td>GLA_02/002</td>\n",
       "    </tr>\n",
       "    <tr>\n",
       "      <td>2</td>\n",
       "      <td>Crystal Palace Park, Ledrington Road, Crystal ...</td>\n",
       "      <td>534339.0</td>\n",
       "      <td>170472.0</td>\n",
       "      <td>-0.069492</td>\n",
       "      <td>51.417354</td>\n",
       "      <td>GLA_02/003</td>\n",
       "    </tr>\n",
       "    <tr>\n",
       "      <td>3</td>\n",
       "      <td>Crystal Palace Park, Ledrington Road, Crystal ...</td>\n",
       "      <td>534345.0</td>\n",
       "      <td>170981.0</td>\n",
       "      <td>-0.069213</td>\n",
       "      <td>51.421927</td>\n",
       "      <td>GLA_02/004</td>\n",
       "    </tr>\n",
       "    <tr>\n",
       "      <td>4</td>\n",
       "      <td>Coldharbour Lane, Rainham, Essex</td>\n",
       "      <td>551802.0</td>\n",
       "      <td>180486.0</td>\n",
       "      <td>0.185750</td>\n",
       "      <td>51.502927</td>\n",
       "      <td>GLA_0</td>\n",
       "    </tr>\n",
       "    <tr>\n",
       "      <td>...</td>\n",
       "      <td>...</td>\n",
       "      <td>...</td>\n",
       "      <td>...</td>\n",
       "      <td>...</td>\n",
       "      <td>...</td>\n",
       "      <td>...</td>\n",
       "    </tr>\n",
       "    <tr>\n",
       "      <td>1257</td>\n",
       "      <td>SAINSBURY'S SUPERMARKET GILLINGHAM STREET 99 W...</td>\n",
       "      <td>529107.0</td>\n",
       "      <td>178768.0</td>\n",
       "      <td>-0.141663</td>\n",
       "      <td>51.493124</td>\n",
       "      <td>Met_6641</td>\n",
       "    </tr>\n",
       "    <tr>\n",
       "      <td>1258</td>\n",
       "      <td>WEST END CENTRAL STATION 27 SAVILE ROW . WESTM...</td>\n",
       "      <td>529081.0</td>\n",
       "      <td>180818.0</td>\n",
       "      <td>-0.141288</td>\n",
       "      <td>51.511552</td>\n",
       "      <td>Met_238</td>\n",
       "    </tr>\n",
       "    <tr>\n",
       "      <td>1259</td>\n",
       "      <td>WESTMINSTER (FORMER) HEADQUARTERS VICTORIA EMB...</td>\n",
       "      <td>530282.0</td>\n",
       "      <td>179871.0</td>\n",
       "      <td>-0.124341</td>\n",
       "      <td>51.502767</td>\n",
       "      <td>Met_103</td>\n",
       "    </tr>\n",
       "    <tr>\n",
       "      <td>1260</td>\n",
       "      <td>LONDON, LONDON,</td>\n",
       "      <td>526997.0</td>\n",
       "      <td>182077.0</td>\n",
       "      <td>-0.170850</td>\n",
       "      <td>51.523339</td>\n",
       "      <td>Met_6082</td>\n",
       "    </tr>\n",
       "    <tr>\n",
       "      <td>1261</td>\n",
       "      <td>LONDON, LONDON,</td>\n",
       "      <td>526997.0</td>\n",
       "      <td>182077.0</td>\n",
       "      <td>-0.170850</td>\n",
       "      <td>51.523339</td>\n",
       "      <td>Met_6083</td>\n",
       "    </tr>\n",
       "  </tbody>\n",
       "</table>\n",
       "<p>1262 rows × 6 columns</p>\n",
       "</div>"
      ],
      "text/plain": [
       "                                                Address   Easting  Northing  \\\n",
       "0     Crystal Palace Park, Ledrington Road, Crystal ...  534361.0  170764.0   \n",
       "1     Crystal Palace Park, Ledrington Road, Crystal ...  534225.0  170850.0   \n",
       "2     Crystal Palace Park, Ledrington Road, Crystal ...  534339.0  170472.0   \n",
       "3     Crystal Palace Park, Ledrington Road, Crystal ...  534345.0  170981.0   \n",
       "4                      Coldharbour Lane, Rainham, Essex  551802.0  180486.0   \n",
       "...                                                 ...       ...       ...   \n",
       "1257  SAINSBURY'S SUPERMARKET GILLINGHAM STREET 99 W...  529107.0  178768.0   \n",
       "1258  WEST END CENTRAL STATION 27 SAVILE ROW . WESTM...  529081.0  180818.0   \n",
       "1259  WESTMINSTER (FORMER) HEADQUARTERS VICTORIA EMB...  530282.0  179871.0   \n",
       "1260                                   LONDON, LONDON,   526997.0  182077.0   \n",
       "1261                                    LONDON, LONDON,  526997.0  182077.0   \n",
       "\n",
       "          long        lat      new_id  \n",
       "0    -0.069065  51.419973  GLA_02/001  \n",
       "1    -0.070987  51.420778  GLA_02/002  \n",
       "2    -0.069492  51.417354  GLA_02/003  \n",
       "3    -0.069213  51.421927  GLA_02/004  \n",
       "4     0.185750  51.502927       GLA_0  \n",
       "...        ...        ...         ...  \n",
       "1257 -0.141663  51.493124    Met_6641  \n",
       "1258 -0.141288  51.511552     Met_238  \n",
       "1259 -0.124341  51.502767     Met_103  \n",
       "1260 -0.170850  51.523339    Met_6082  \n",
       "1261 -0.170850  51.523339    Met_6083  \n",
       "\n",
       "[1262 rows x 6 columns]"
      ]
     },
     "execution_count": 22,
     "metadata": {},
     "output_type": "execute_result"
    }
   ],
   "source": [
    "\n",
    "li = []\n",
    "\n",
    "for filename in all_files: # [1:2]\n",
    "    print(filename)\n",
    "    visit = pd.read_csv(filename, \n",
    "                    header = 0,\n",
    "                    delimiter=',',\n",
    "                    encoding = \"ISO-8859-1\")\n",
    "    if visit.shape[0] < 1 :\n",
    "        continue\n",
    "    print(visit.count().max())\n",
    "    visit  = visit [visit['Easting'].notnull()].copy()\n",
    "    \n",
    "    visit['long'] = visit.apply(lambda x: OSGB36toWGS84(  x['Easting'], x['Northing']) [1] , axis=1)\n",
    "    visit['lat'] = visit.apply(lambda x: OSGB36toWGS84(  x['Easting'], x['Northing']) [0] , axis=1)\n",
    "    visit['new_id'] = visit.apply(lambda x: '_'.join( [ \n",
    "        filename.split(\"/\")[-1].split(\"_\")[0] ,\n",
    "        str(x['Unique_Asset_ID'])  \n",
    "        ]), axis=1)\n",
    "\n",
    "    \n",
    "    print(visit.count().max())\n",
    "    li.append(visit)\n",
    "\n",
    "dframe = pd.concat(li, axis=0, ignore_index=True)\n",
    "print(dframe.count().max())\n",
    "dframe[['Address', 'Easting', 'Northing', 'long', 'lat', 'new_id']]\n"
   ]
  },
  {
   "cell_type": "code",
   "execution_count": null,
   "metadata": {},
   "outputs": [],
   "source": []
  },
  {
   "cell_type": "code",
   "execution_count": 35,
   "metadata": {},
   "outputs": [],
   "source": [
    "dframe['Site_Area_Hectares'].fillna(0, inplace=True)   \n",
    "dframe['Building_Area_GIA_sqm'].fillna(0, inplace=True)   \n",
    "# dframe['overall_hectares'] = dframe['Site_Area_Hectares']\n",
    "dframe['overall_hectares'] = dframe.apply(lambda x:   x['Site_Area_Hectares'] if  x['Site_Area_Hectares'] > 0 else x['Building_Area_GIA_sqm'] / 10000 , axis=1)\n",
    "# dframe['overall_hectares'] = dframe.apply(lambda x:   x['Site_Area_Hectares']  + ( x['Building_Area_GIA_sqm'] / 10000 ), axis=1)"
   ]
  },
  {
   "cell_type": "code",
   "execution_count": 23,
   "metadata": {
    "scrolled": false
   },
   "outputs": [
    {
     "data": {
      "text/plain": [
       "Index(['Address', 'Asset_Category', 'Borough', 'Building_Area_GIA_sqm',\n",
       "       'Building_Area_NIA_sqm', 'Built_out', 'Description', 'Easting',\n",
       "       'Field18', 'Field19', 'Field20', 'Field21', 'Field22', 'Field23',\n",
       "       'Field24', 'Field25', 'Field26', 'Field27', 'Field28', 'Field29',\n",
       "       'Holding_Name', 'Land_Building', 'Land_Buildings', 'Northing',\n",
       "       'OBJECTID', 'Occupied', 'Occupied_by', 'Occupied_by_LLDC',\n",
       "       'Occupied_by_MPS', 'Occupied_by_TfL', 'Post_Code', 'Site_Area_Hectares',\n",
       "       'Site_Area_Hectares_1', 'Sub_Unit', 'Tenure', 'UPRN', 'Unique_Asset_ID',\n",
       "       'Unique_Asset_ID_X', 'Unique_Asset_ID_Y', 'lat', 'long', 'new_id'],\n",
       "      dtype='object')"
      ]
     },
     "execution_count": 23,
     "metadata": {},
     "output_type": "execute_result"
    }
   ],
   "source": [
    "dframe.columns"
   ]
  },
  {
   "cell_type": "code",
   "execution_count": 34,
   "metadata": {},
   "outputs": [
    {
     "data": {
      "text/html": [
       "<div>\n",
       "<style scoped>\n",
       "    .dataframe tbody tr th:only-of-type {\n",
       "        vertical-align: middle;\n",
       "    }\n",
       "\n",
       "    .dataframe tbody tr th {\n",
       "        vertical-align: top;\n",
       "    }\n",
       "\n",
       "    .dataframe thead th {\n",
       "        text-align: right;\n",
       "    }\n",
       "</style>\n",
       "<table border=\"1\" class=\"dataframe\">\n",
       "  <thead>\n",
       "    <tr style=\"text-align: right;\">\n",
       "      <th></th>\n",
       "      <th>new_id</th>\n",
       "      <th>Easting</th>\n",
       "      <th>Northing</th>\n",
       "      <th>lat</th>\n",
       "      <th>long</th>\n",
       "      <th>Address</th>\n",
       "      <th>Post_Code</th>\n",
       "      <th>overall_hectares</th>\n",
       "      <th>Site_Area_Hectares</th>\n",
       "      <th>Building_Area_GIA_sqm</th>\n",
       "      <th>Site_Area_Hectares_1</th>\n",
       "    </tr>\n",
       "  </thead>\n",
       "  <tbody>\n",
       "    <tr>\n",
       "      <td>1259</td>\n",
       "      <td>Met_103</td>\n",
       "      <td>530282.0</td>\n",
       "      <td>179871.0</td>\n",
       "      <td>51.502767</td>\n",
       "      <td>-0.124341</td>\n",
       "      <td>WESTMINSTER (FORMER) HEADQUARTERS VICTORIA EMB...</td>\n",
       "      <td>SW1A 2JL</td>\n",
       "      <td>0.23</td>\n",
       "      <td>0.23</td>\n",
       "      <td>8691.0</td>\n",
       "      <td>NaN</td>\n",
       "    </tr>\n",
       "  </tbody>\n",
       "</table>\n",
       "</div>"
      ],
      "text/plain": [
       "       new_id   Easting  Northing        lat      long  \\\n",
       "1259  Met_103  530282.0  179871.0  51.502767 -0.124341   \n",
       "\n",
       "                                                Address Post_Code  \\\n",
       "1259  WESTMINSTER (FORMER) HEADQUARTERS VICTORIA EMB...  SW1A 2JL   \n",
       "\n",
       "      overall_hectares  Site_Area_Hectares  Building_Area_GIA_sqm  \\\n",
       "1259              0.23                0.23                 8691.0   \n",
       "\n",
       "      Site_Area_Hectares_1  \n",
       "1259                   NaN  "
      ]
     },
     "execution_count": 34,
     "metadata": {},
     "output_type": "execute_result"
    }
   ],
   "source": [
    "dframe[dframe['new_id']  == 'Met_103'][['new_id', 'Easting', 'Northing', 'lat', 'long', 'Address', 'Post_Code', \n",
    "        'overall_hectares', 'Site_Area_Hectares', 'Building_Area_GIA_sqm','Site_Area_Hectares_1',]]"
   ]
  },
  {
   "cell_type": "code",
   "execution_count": 36,
   "metadata": {},
   "outputs": [],
   "source": [
    "dframe[['new_id', 'Easting', 'Northing', 'lat', 'long', 'Address', 'Post_Code', \n",
    "        'overall_hectares', 'Site_Area_Hectares', 'Building_Area_GIA_sqm','Site_Area_Hectares_1',\n",
    "        'OBJECTID', 'Borough', 'Unique_Asset_ID', 'Unique_Asset_ID_X',\n",
    "       'Unique_Asset_ID_Y', 'Holding_Name', 'Sub_Unit',\n",
    "       'UPRN', 'Description', 'Occupied', 'Land_Building', 'Asset_Category',\n",
    "       'Tenure']\n",
    "      ].to_csv ( path+r'/all_addreses.csv',\n",
    "                index = None, header=True, \n",
    "                sep='|',\n",
    "                encoding = \"utf-8\") #Don't forget to add '.csv' at the end of the path"
   ]
  },
  {
   "cell_type": "code",
   "execution_count": 38,
   "metadata": {},
   "outputs": [
    {
     "data": {
      "text/plain": [
       "[51.70507024852442, -0.8049858046195676]"
      ]
     },
     "execution_count": 38,
     "metadata": {},
     "output_type": "execute_result"
    }
   ],
   "source": [
    "[dframe[  'lat'].max(), dframe[  'long'].min()]"
   ]
  },
  {
   "cell_type": "code",
   "execution_count": 39,
   "metadata": {},
   "outputs": [
    {
     "data": {
      "text/plain": [
       "[51.30832941013647, 0.3297512620904363]"
      ]
     },
     "execution_count": 39,
     "metadata": {},
     "output_type": "execute_result"
    }
   ],
   "source": [
    "[dframe[  'lat'].min(), dframe[  'long'].max()]"
   ]
  }
 ],
 "metadata": {
  "kernelspec": {
   "display_name": "Python 3",
   "language": "python",
   "name": "python3"
  },
  "language_info": {
   "codemirror_mode": {
    "name": "ipython",
    "version": 3
   },
   "file_extension": ".py",
   "mimetype": "text/x-python",
   "name": "python",
   "nbconvert_exporter": "python",
   "pygments_lexer": "ipython3",
   "version": "3.7.6"
  }
 },
 "nbformat": 4,
 "nbformat_minor": 2
}
